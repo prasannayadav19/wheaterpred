{
 "cells": [
  {
   "cell_type": "code",
   "execution_count": 41,
   "metadata": {},
   "outputs": [],
   "source": [
    "import pandas as pd\n",
    "import datetime as dt"
   ]
  },
  {
   "cell_type": "code",
   "execution_count": 30,
   "metadata": {},
   "outputs": [],
   "source": [
    "df1 = pd.read_csv(r'C:\\wheaterpred\\dataset\\train (2).csv')"
   ]
  },
  {
   "cell_type": "code",
   "execution_count": 31,
   "metadata": {},
   "outputs": [],
   "source": [
    "df2 = pd.read_csv(r'C:\\wheaterpred\\dataset\\test.csv')"
   ]
  },
  {
   "cell_type": "code",
   "execution_count": 32,
   "metadata": {},
   "outputs": [],
   "source": [
    "data = pd.concat([df1,df2],axis=0)"
   ]
  },
  {
   "cell_type": "code",
   "execution_count": 33,
   "metadata": {},
   "outputs": [],
   "source": [
    "data.reset_index(inplace=True)"
   ]
  },
  {
   "cell_type": "code",
   "execution_count": 34,
   "metadata": {},
   "outputs": [
    {
     "data": {
      "text/plain": [
       "index                         0\n",
       "Formatted Date                0\n",
       "Summary                       0\n",
       "Precip Type                 517\n",
       "Temperature (C)               0\n",
       "Apparent Temperature (C)      0\n",
       "Humidity                      0\n",
       "Wind Speed (km/h)             0\n",
       "Wind Bearing (degrees)        0\n",
       "Visibility (km)               0\n",
       "Cloud Cover                   0\n",
       "Pressure (millibars)          0\n",
       "Daily Summary                 0\n",
       "dtype: int64"
      ]
     },
     "execution_count": 34,
     "metadata": {},
     "output_type": "execute_result"
    }
   ],
   "source": [
    "data.isnull().sum()"
   ]
  },
  {
   "cell_type": "code",
   "execution_count": 37,
   "metadata": {},
   "outputs": [],
   "source": [
    "data['Precip Type']=data['Precip Type'].fillna(0)"
   ]
  },
  {
   "cell_type": "code",
   "execution_count": 38,
   "metadata": {},
   "outputs": [],
   "source": [
    "data['Precip Type'].replace({0:'rain'},inplace=True)"
   ]
  },
  {
   "cell_type": "code",
   "execution_count": 39,
   "metadata": {},
   "outputs": [
    {
     "data": {
      "text/plain": [
       "index                       0\n",
       "Formatted Date              0\n",
       "Summary                     0\n",
       "Precip Type                 0\n",
       "Temperature (C)             0\n",
       "Apparent Temperature (C)    0\n",
       "Humidity                    0\n",
       "Wind Speed (km/h)           0\n",
       "Wind Bearing (degrees)      0\n",
       "Visibility (km)             0\n",
       "Cloud Cover                 0\n",
       "Pressure (millibars)        0\n",
       "Daily Summary               0\n",
       "dtype: int64"
      ]
     },
     "execution_count": 39,
     "metadata": {},
     "output_type": "execute_result"
    }
   ],
   "source": [
    "data.isnull().sum()"
   ]
  },
  {
   "cell_type": "code",
   "execution_count": 48,
   "metadata": {},
   "outputs": [],
   "source": [
    "data['Formatted Date'] = pd.to_datetime(data['Formatted Date'],utc=True)"
   ]
  },
  {
   "cell_type": "code",
   "execution_count": 49,
   "metadata": {},
   "outputs": [
    {
     "name": "stdout",
     "output_type": "stream",
     "text": [
      "<class 'pandas.core.frame.DataFrame'>\n",
      "RangeIndex: 96453 entries, 0 to 96452\n",
      "Data columns (total 13 columns):\n",
      " #   Column                    Non-Null Count  Dtype              \n",
      "---  ------                    --------------  -----              \n",
      " 0   index                     96453 non-null  int64              \n",
      " 1   Formatted Date            96453 non-null  datetime64[ns, UTC]\n",
      " 2   Summary                   96453 non-null  object             \n",
      " 3   Precip Type               96453 non-null  object             \n",
      " 4   Temperature (C)           96453 non-null  float64            \n",
      " 5   Apparent Temperature (C)  96453 non-null  float64            \n",
      " 6   Humidity                  96453 non-null  float64            \n",
      " 7   Wind Speed (km/h)         96453 non-null  float64            \n",
      " 8   Wind Bearing (degrees)    96453 non-null  int64              \n",
      " 9   Visibility (km)           96453 non-null  float64            \n",
      " 10  Cloud Cover               96453 non-null  int64              \n",
      " 11  Pressure (millibars)      96453 non-null  float64            \n",
      " 12  Daily Summary             96453 non-null  object             \n",
      "dtypes: datetime64[ns, UTC](1), float64(6), int64(3), object(3)\n",
      "memory usage: 9.6+ MB\n"
     ]
    }
   ],
   "source": [
    "data.info()"
   ]
  },
  {
   "cell_type": "code",
   "execution_count": 50,
   "metadata": {},
   "outputs": [],
   "source": [
    "data.drop(['Cloud Cover'],axis=1,inplace=True)"
   ]
  },
  {
   "cell_type": "code",
   "execution_count": 52,
   "metadata": {},
   "outputs": [],
   "source": [
    "data.drop(['index'],axis=1,inplace=True)"
   ]
  },
  {
   "cell_type": "code",
   "execution_count": 55,
   "metadata": {},
   "outputs": [],
   "source": [
    "data['year'] = data['Formatted Date'].dt.year\n",
    "data['month_name'] = data['Formatted Date'].dt.month_name()\n",
    "data['day'] = data['Formatted Date'].dt.day\n",
    "data['month'] = data['Formatted Date'].dt.month"
   ]
  },
  {
   "cell_type": "code",
   "execution_count": 57,
   "metadata": {},
   "outputs": [],
   "source": [
    "data.to_csv('Analysis.csv',index=False)"
   ]
  },
  {
   "cell_type": "code",
   "execution_count": null,
   "metadata": {},
   "outputs": [],
   "source": []
  }
 ],
 "metadata": {
  "kernelspec": {
   "display_name": "Python 3",
   "language": "python",
   "name": "python3"
  },
  "language_info": {
   "codemirror_mode": {
    "name": "ipython",
    "version": 3
   },
   "file_extension": ".py",
   "mimetype": "text/x-python",
   "name": "python",
   "nbconvert_exporter": "python",
   "pygments_lexer": "ipython3",
   "version": "3.11.3"
  },
  "orig_nbformat": 4
 },
 "nbformat": 4,
 "nbformat_minor": 2
}
